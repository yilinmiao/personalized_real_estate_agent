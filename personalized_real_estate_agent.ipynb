{
  "nbformat": 4,
  "nbformat_minor": 0,
  "metadata": {
    "colab": {
      "provenance": [],
      "mount_file_id": "1BUMt_VoKC9WqyoNcl-aEFB31mymTRgsl",
      "authorship_tag": "ABX9TyPUKDE2xmMue6taA+RLGC7s",
      "include_colab_link": true
    },
    "kernelspec": {
      "name": "python3",
      "display_name": "Python 3"
    },
    "language_info": {
      "name": "python"
    }
  },
  "cells": [
    {
      "cell_type": "markdown",
      "metadata": {
        "id": "view-in-github",
        "colab_type": "text"
      },
      "source": [
        "<a href=\"https://colab.research.google.com/github/yilinmiao/personalized_real_estate_agent/blob/main/personalized_real_estate_agent.ipynb\" target=\"_parent\"><img src=\"https://colab.research.google.com/assets/colab-badge.svg\" alt=\"Open In Colab\"/></a>"
      ]
    },
    {
      "cell_type": "markdown",
      "source": [
        "This project implements a personalized real estate agent application called \"HomeMatch\". It uses a LLM to generate synthetic real estate listings, stores them in a vector database, and then finds and personalizes listings based on buyer preferences."
      ],
      "metadata": {
        "id": "Hkv4Ba3-wy1H"
      }
    },
    {
      "cell_type": "markdown",
      "source": [
        "# Setting Up"
      ],
      "metadata": {
        "id": "gKyF-XOj8_oL"
      }
    },
    {
      "cell_type": "code",
      "source": [
        "!pip install langchain openai chromadb"
      ],
      "metadata": {
        "id": "9OPyu4mD0JS8"
      },
      "execution_count": null,
      "outputs": []
    },
    {
      "cell_type": "code",
      "source": [
        "!pip install langchain_openai"
      ],
      "metadata": {
        "id": "co1Z-rAn1gfr"
      },
      "execution_count": null,
      "outputs": []
    },
    {
      "cell_type": "code",
      "source": [
        "!pip install langchain_community"
      ],
      "metadata": {
        "id": "lYUge5te1t0M"
      },
      "execution_count": null,
      "outputs": []
    },
    {
      "cell_type": "code",
      "execution_count": 5,
      "metadata": {
        "id": "FlFouurnwZYN"
      },
      "outputs": [],
      "source": [
        "import os\n",
        "import json\n",
        "from langchain_openai import OpenAIEmbeddings, OpenAI\n",
        "from langchain.prompts import PromptTemplate\n",
        "from langchain.chains import LLMChain\n",
        "from langchain.vectorstores import Chroma\n",
        "from langchain.docstore.document import Document\n",
        "import chromadb # Import ChromaDB client library directly for persistence setup"
      ]
    },
    {
      "cell_type": "code",
      "source": [
        "from google.colab import userdata\n",
        "openai_api_key = userdata.get('OPENAI_API_KEY')\n",
        "if not openai_api_key:\n",
        "    print('🛑 OpenAI API key not found. Please create a .env file and set the OPENAI_API_KEY environment variable.')\n",
        "    exit()\n",
        "else:\n",
        "    print('✅ OpenAI API key loaded successfully.')\n"
      ],
      "metadata": {
        "colab": {
          "base_uri": "https://localhost:8080/"
        },
        "id": "f7Ck6c3L0SE8",
        "outputId": "3bd5b659-b452-4721-cec0-1029f259acfb"
      },
      "execution_count": 6,
      "outputs": [
        {
          "output_type": "stream",
          "name": "stdout",
          "text": [
            "✅ OpenAI API key loaded successfully.\n"
          ]
        }
      ]
    },
    {
      "cell_type": "code",
      "source": [
        "# --- Configuration ---\n",
        "LISTINGS_FILE = \"listings.json\"\n",
        "VECTORDB_DIR = \"chroma_db\"\n",
        "COLLECTION_NAME = \"real_estate_listings\""
      ],
      "metadata": {
        "id": "PHuU_nNWwx-w"
      },
      "execution_count": 7,
      "outputs": []
    },
    {
      "cell_type": "markdown",
      "source": [
        "Initialize the LLM (using a model suitable for generation/instruction following)\n",
        "\n",
        "Using OpenAI directly requires specifying the key if not globally set via env var for the library itself\n"
      ],
      "metadata": {
        "id": "FAeRxrwM1_lJ"
      }
    },
    {
      "cell_type": "code",
      "source": [
        "try:\n",
        "    llm = OpenAI(temperature=0.7, openai_api_key=openai_api_key, model_name='gpt-3.5-turbo-instruct')\n",
        "    embeddings_model = OpenAIEmbeddings(openai_api_key=openai_api_key)\n",
        "    print(\"✅ LLM and Embeddings Model initialized.\")\n",
        "except Exception as e:\n",
        "    print(f\"🛑 Error initializing OpenAI models: {e}\")\n",
        "    exit()"
      ],
      "metadata": {
        "colab": {
          "base_uri": "https://localhost:8080/"
        },
        "id": "l9gXzi_82D1h",
        "outputId": "b024478e-b1a2-4226-b958-2527cc43e106"
      },
      "execution_count": 8,
      "outputs": [
        {
          "output_type": "stream",
          "name": "stdout",
          "text": [
            "✅ LLM and Embeddings Model initialized.\n"
          ]
        }
      ]
    },
    {
      "cell_type": "markdown",
      "source": [
        "# Generating Real Estate Listings\n",
        "Define the prompt template for generating listings"
      ],
      "metadata": {
        "id": "11v21OLn2JlD"
      }
    },
    {
      "cell_type": "code",
      "source": [
        "listing_template = \"\"\"\n",
        "Generate a realistic real estate listing with the following details:\n",
        "Neighborhood: {neighborhood_type}\n",
        "Price: Around ${price_range}\n",
        "Bedrooms: {bedrooms}\n",
        "Bathrooms: {bathrooms}\n",
        "House Size: Approximately {house_size} sqft\n",
        "\n",
        "Include a compelling description highlighting key features relevant to the neighborhood type and target audience.\n",
        "Also, provide a short description of the neighborhood itself, mentioning local amenities, atmosphere, or points of interest.\n",
        "\n",
        "Format the output STRICTLY as a JSON object with keys: 'neighborhood', 'price' (as integer), 'bedrooms', 'bathrooms', 'house_size_sqft', 'description', 'neighborhood_description'.\n",
        "DO NOT include any text before or after the JSON object.\n",
        "\n",
        "Example Format:\n",
        "{{\n",
        "  \"neighborhood\": \"Example Neighborhood\",\n",
        "  \"price\": 500000,\n",
        "  \"bedrooms\": 3,\n",
        "  \"bathrooms\": 2,\n",
        "  \"house_size_sqft\": 1800,\n",
        "  \"description\": \"Charming updated bungalow...\",\n",
        "  \"neighborhood_description\": \"Quiet tree-lined streets...\"\n",
        "}}\n",
        "\n",
        "Listing Details:\n",
        "Neighborhood Type: {neighborhood_type}\n",
        "Price Range: ${price_range}\n",
        "Bedrooms: {bedrooms}\n",
        "Bathrooms: {bathrooms}\n",
        "House Size: {house_size} sqft\n",
        "\"\"\"\n"
      ],
      "metadata": {
        "id": "dlW8_U0n2NCn"
      },
      "execution_count": 9,
      "outputs": []
    },
    {
      "cell_type": "code",
      "source": [
        "listing_prompt = PromptTemplate(\n",
        "    input_variables=[\"neighborhood_type\", \"price_range\", \"bedrooms\", \"bathrooms\", \"house_size\"],\n",
        "    template=listing_template\n",
        ")\n",
        "\n",
        "# Using RunnableSequence with prompt | llm\n",
        "listing_chain = listing_prompt | llm"
      ],
      "metadata": {
        "id": "I_GXysPn2RJ_"
      },
      "execution_count": 10,
      "outputs": []
    },
    {
      "cell_type": "code",
      "source": [
        "def generate_listings(num_listings=10):\n",
        "    \"\"\"Generates a specified number of diverse real estate listings using the LLM.\"\"\"\n",
        "    listings = []\n",
        "    # Define diverse parameters for generation\n",
        "    listing_params = [\n",
        "        {\"neighborhood_type\": \"Family-Friendly Suburb\", \"price_range\": \"650,000\", \"bedrooms\": 4, \"bathrooms\": 3, \"house_size\": 2500},\n",
        "        {\"neighborhood_type\": \"Trendy Urban Area\", \"price_range\": \"800,000\", \"bedrooms\": 2, \"bathrooms\": 2, \"house_size\": 1200},\n",
        "        {\"neighborhood_type\": \"Quiet Rural Outskirts\", \"price_range\": \"450,000\", \"bedrooms\": 3, \"bathrooms\": 2, \"house_size\": 2000},\n",
        "        {\"neighborhood_type\": \"Luxury Downtown District\", \"price_range\": \"1,500,000\", \"bedrooms\": 3, \"bathrooms\": 3.5, \"house_size\": 3000},\n",
        "        {\"neighborhood_type\": \"Eco-Conscious Community\", \"price_range\": \"700,000\", \"bedrooms\": 3, \"bathrooms\": 2, \"house_size\": 1800},\n",
        "        {\"neighborhood_type\": \"Historic Neighborhood\", \"price_range\": \"900,000\", \"bedrooms\": 4, \"bathrooms\": 2.5, \"house_size\": 2800},\n",
        "        {\"neighborhood_type\": \"Lakeside Community\", \"price_range\": \"1,100,000\", \"bedrooms\": 5, \"bathrooms\": 4, \"house_size\": 3500},\n",
        "        {\"neighborhood_type\": \"Affordable Starter Home Area\", \"price_range\": \"350,000\", \"bedrooms\": 2, \"bathrooms\": 1, \"house_size\": 1000},\n",
        "        {\"neighborhood_type\": \"University Town Neighborhood\", \"price_range\": \"550,000\", \"bedrooms\": 3, \"bathrooms\": 2, \"house_size\": 1600},\n",
        "        {\"neighborhood_type\": \"Retirement Community\", \"price_range\": \"400,000\", \"bedrooms\": 2, \"bathrooms\": 2, \"house_size\": 1400},\n",
        "    ]\n",
        "\n",
        "    # Ensure we generate at least num_listings\n",
        "    params_to_use = (listing_params * (num_listings // len(listing_params) + 1))[:num_listings]\n",
        "\n",
        "    print(f\"Generating {num_listings} listings...\")\n",
        "    for i, params in enumerate(params_to_use):\n",
        "        print(f\"  Generating listing {i+1}/{num_listings} ({params['neighborhood_type']})...\")\n",
        "        retries = 3\n",
        "        for attempt in range(retries):\n",
        "            try:\n",
        "                generated_text = listing_chain.invoke(params)\n",
        "                # Attempt to parse the LLM output as JSON\n",
        "                try:\n",
        "                    # Clean potential markdown/fencing\n",
        "                    cleaned_text = generated_text.strip().strip('```json').strip('```').strip()\n",
        "                    listing_data = json.loads(cleaned_text)\n",
        "\n",
        "                    # Basic validation\n",
        "                    required_keys = ['neighborhood', 'price', 'bedrooms', 'bathrooms', 'house_size_sqft', 'description', 'neighborhood_description']\n",
        "                    if all(key in listing_data for key in required_keys):\n",
        "                        # Add a unique ID\n",
        "                        listing_data['id'] = f\"listing_{i+1:03d}\"\n",
        "                        # Convert price to int if it's a string\n",
        "                        if isinstance(listing_data['price'], str):\n",
        "                            listing_data['price'] = int(listing_data['price'].replace(',', '').replace('$', ''))\n",
        "                        listings.append(listing_data)\n",
        "                        print(f\"    ✅ Successfully generated and parsed listing {i+1}\")\n",
        "                        break # Success, move to next listing\n",
        "                    else:\n",
        "                        print(f\"    ⚠️ Warning: Generated listing {i+1} (Attempt {attempt+1}) missing required keys. Output: {generated_text}\")\n",
        "\n",
        "                except json.JSONDecodeError as json_e:\n",
        "                    print(f\"    ⚠️ Warning: Could not decode JSON for listing {i+1} (Attempt {attempt+1}). Error: {json_e}. Output: {generated_text}\")\n",
        "                except ValueError as val_e:\n",
        "                     print(f\"    ⚠️ Warning: Error processing price for listing {i+1} (Attempt {attempt+1}). Error: {val_e}. Output: {generated_text}\")\n",
        "\n",
        "            except Exception as e:\n",
        "                print(f\"    🛑 Error generating listing {i+1} (Attempt {attempt+1}): {e}\")\n",
        "\n",
        "            # If loop finishes without break, it means all retries failed for this listing\n",
        "            if attempt == retries - 1:\n",
        "                 print(f\"    🛑 Failed to generate valid listing {i+1} after {retries} attempts.\")\n",
        "\n",
        "    return listings"
      ],
      "metadata": {
        "id": "eqqD_BQZ2ynP"
      },
      "execution_count": 11,
      "outputs": []
    },
    {
      "cell_type": "code",
      "source": [
        "# Function to save listings to a file\n",
        "def save_listings(listings, filename=LISTINGS_FILE):\n",
        "    \"\"\"Saves the list of listing dictionaries to a JSON file.\"\"\"\n",
        "    try:\n",
        "        with open(filename, 'w') as f:\n",
        "            json.dump(listings, f, indent=4)\n",
        "        print(f\"✅ Successfully saved {len(listings)} listings to {filename}\")\n",
        "    except IOError as e:\n",
        "        print(f\"🛑 Error saving listings to {filename}: {e}\")"
      ],
      "metadata": {
        "id": "h1xZPjvL21mN"
      },
      "execution_count": 12,
      "outputs": []
    },
    {
      "cell_type": "code",
      "source": [
        "# Check if listings file already exists\n",
        "if os.path.exists(LISTINGS_FILE):\n",
        "    print(f\"'{LISTINGS_FILE}' already exists. Loading listings from file.\")\n",
        "    try:\n",
        "        with open(LISTINGS_FILE, 'r') as f:\n",
        "            generated_listings = json.load(f)\n",
        "        print(f\"✅ Loaded {len(generated_listings)} listings from {LISTINGS_FILE}.\")\n",
        "        if len(generated_listings) < 10:\n",
        "             print(\"⚠️ Warning: Existing file has fewer than 10 listings. Consider regenerating.\")\n",
        "    except (IOError, json.JSONDecodeError) as e:\n",
        "        print(f\"🛑 Error loading {LISTINGS_FILE}: {e}. Will attempt to regenerate.\")\n",
        "        generated_listings = generate_listings(num_listings=10)\n",
        "        if generated_listings:\n",
        "            save_listings(generated_listings)\n",
        "        else:\n",
        "            print(\"🛑 Failed to generate listings. Exiting.\")\n",
        "            exit()\n",
        "else:\n",
        "    print(f\"'{LISTINGS_FILE}' not found. Generating new listings...\")\n",
        "    generated_listings = generate_listings(num_listings=10)\n",
        "    if generated_listings:\n",
        "        save_listings(generated_listings)\n",
        "    else:\n",
        "        print(\"🛑 Failed to generate listings. Exiting.\")\n",
        "        exit()\n"
      ],
      "metadata": {
        "id": "JNCLywv_23rY"
      },
      "execution_count": null,
      "outputs": []
    },
    {
      "cell_type": "markdown",
      "source": [
        "# Storing Listings in Vector DB"
      ],
      "metadata": {
        "id": "u4rnOVaD8wa6"
      }
    },
    {
      "cell_type": "code",
      "source": [
        "def setup_vector_db_and_store_listings(listings, embeddings, persist_directory=VECTORDB_DIR, collection_name=COLLECTION_NAME):\n",
        "    \"\"\"Initializes ChromaDB, creates documents, generates embeddings, and stores them.\"\"\"\n",
        "    print(f\"Setting up vector database at: {persist_directory}\")\n",
        "    print(f\"Using collection: {collection_name}\")\n",
        "\n",
        "    # Create Chroma client with persistence\n",
        "    # client = chromadb.PersistentClient(path=persist_directory)\n",
        "\n",
        "    # Check if collection already exists before trying to add potentially duplicate data\n",
        "    # vector_store = Chroma(\n",
        "    #     client=client,\n",
        "    #     collection_name=collection_name,\n",
        "    #     embedding_function=embeddings,\n",
        "    #     persist_directory=persist_directory # Redundant if client is persistent? Check docs.\n",
        "    # )\n",
        "\n",
        "    # Simplified initialization using Chroma.from_documents which handles client/persistence\n",
        "    # It's generally better to create the collection and add documents separately for idempotency\n",
        "\n",
        "    # Prepare documents for LangChain/Chroma\n",
        "    documents = []\n",
        "    doc_ids = []\n",
        "    print(f\"Preparing {len(listings)} documents for embedding...\")\n",
        "    for listing in listings:\n",
        "        # Combine relevant text fields for semantic meaning\n",
        "        content = f\"Neighborhood: {listing.get('neighborhood', 'N/A')}\\n\"\n",
        "        content += f\"Price: ${listing.get('price', 0):,}\\n\"\n",
        "        content += f\"Size: {listing.get('house_size_sqft', 0)} sqft, {listing.get('bedrooms', 0)} bed, {listing.get('bathrooms', 0)} bath\\n\"\n",
        "        content += f\"Description: {listing.get('description', '')}\\n\"\n",
        "        content += f\"Neighborhood Overview: {listing.get('neighborhood_description', '')}\"\n",
        "\n",
        "        # Metadata should contain all original fields for retrieval\n",
        "        metadata = listing.copy() # Use the whole listing dict as metadata\n",
        "\n",
        "        doc = Document(page_content=content, metadata=metadata)\n",
        "        documents.append(doc)\n",
        "        doc_ids.append(listing['id']) # Use the unique ID generated in Step 2\n",
        "\n",
        "    # Initialize Chroma with persistence and add documents\n",
        "    # Use from_documents for initial creation or if you want it to handle everything.\n",
        "    # However, for more control over updates/duplicates, manage the client and collection explicitly.\n",
        "\n",
        "    print(f\"Initializing/loading ChromaDB collection '{collection_name}' at '{persist_directory}'...\")\n",
        "    try:\n",
        "        vector_store = Chroma(\n",
        "            collection_name=collection_name,\n",
        "            embedding_function=embeddings,\n",
        "            persist_directory=persist_directory\n",
        "        )\n",
        "\n",
        "        # Check existing IDs to avoid duplicates\n",
        "        existing_ids = set(vector_store.get([\"ids\"])[\"ids\"])\n",
        "        print(f\"Found {len(existing_ids)} existing documents in the collection.\")\n",
        "\n",
        "        docs_to_add = []\n",
        "        ids_to_add = []\n",
        "        for doc, doc_id in zip(documents, doc_ids):\n",
        "            if doc_id not in existing_ids:\n",
        "                docs_to_add.append(doc)\n",
        "                ids_to_add.append(doc_id)\n",
        "\n",
        "        if docs_to_add:\n",
        "            print(f\"Adding {len(docs_to_add)} new documents to the collection...\")\n",
        "            vector_store.add_documents(documents=docs_to_add, ids=ids_to_add)\n",
        "            vector_store.persist() # Ensure changes are saved\n",
        "            print(f\"✅ Added {len(docs_to_add)} new documents.\")\n",
        "        else:\n",
        "            print(\"✅ No new documents to add. Collection is up-to-date.\")\n",
        "\n",
        "        # Verify count (may not be perfectly instant after add?)\n",
        "        # count = vector_store._collection.count()\n",
        "        # print(f\"Collection now contains {count} documents.\")\n",
        "\n",
        "        print(\"✅ Vector store initialized and populated successfully.\")\n",
        "        return vector_store\n",
        "\n",
        "    except Exception as e:\n",
        "        print(f\"🛑 Error setting up or populating vector store: {e}\")\n",
        "        # Consider more specific error handling (permissions, API keys, etc.)\n",
        "        return None"
      ],
      "metadata": {
        "id": "fQUa1euA8w45"
      },
      "execution_count": 14,
      "outputs": []
    },
    {
      "cell_type": "code",
      "source": [
        "if generated_listings:\n",
        "    vector_db = setup_vector_db_and_store_listings(generated_listings, embeddings_model)\n",
        "else:\n",
        "    print(\"🛑 No listings generated or loaded, skipping vector DB setup.\")\n",
        "    vector_db = None"
      ],
      "metadata": {
        "colab": {
          "base_uri": "https://localhost:8080/"
        },
        "id": "RzwXVXVB9O_y",
        "outputId": "457266e9-4f08-4225-fac1-e7cab220648a"
      },
      "execution_count": 15,
      "outputs": [
        {
          "output_type": "stream",
          "name": "stdout",
          "text": [
            "Setting up vector database at: chroma_db\n",
            "Using collection: real_estate_listings\n",
            "Preparing 4 documents for embedding...\n",
            "Initializing/loading ChromaDB collection 'real_estate_listings' at 'chroma_db'...\n"
          ]
        },
        {
          "output_type": "stream",
          "name": "stderr",
          "text": [
            "<ipython-input-14-55b558b334e1>:45: LangChainDeprecationWarning: The class `Chroma` was deprecated in LangChain 0.2.9 and will be removed in 1.0. An updated version of the class exists in the :class:`~langchain-chroma package and should be used instead. To use it run `pip install -U :class:`~langchain-chroma` and import as `from :class:`~langchain_chroma import Chroma``.\n",
            "  vector_store = Chroma(\n"
          ]
        },
        {
          "output_type": "stream",
          "name": "stdout",
          "text": [
            "Found 0 existing documents in the collection.\n",
            "Adding 4 new documents to the collection...\n",
            "✅ Added 4 new documents.\n",
            "✅ Vector store initialized and populated successfully.\n"
          ]
        },
        {
          "output_type": "stream",
          "name": "stderr",
          "text": [
            "<ipython-input-14-55b558b334e1>:65: LangChainDeprecationWarning: Since Chroma 0.4.x the manual persistence method is no longer supported as docs are automatically persisted.\n",
            "  vector_store.persist() # Ensure changes are saved\n"
          ]
        }
      ]
    },
    {
      "cell_type": "markdown",
      "source": [
        "# Defining Buyer Preferences"
      ],
      "metadata": {
        "id": "nHDzG3Ye9T-y"
      }
    },
    {
      "cell_type": "code",
      "source": [
        "# Hardcoded example buyer preferences based on Instructions.txt\n",
        "buyer_preferences = {\n",
        "    \"house_size_description\": \"A comfortable three-bedroom house with a spacious kitchen and a cozy living room.\",\n",
        "    \"important_factors\": \"A quiet neighborhood, good local schools, and convenient shopping options.\",\n",
        "    \"desired_amenities\": \"A backyard for gardening, a two-car garage, and a modern, energy-efficient heating system.\",\n",
        "    \"transportation_needs\": \"Easy access to a reliable bus line, proximity to a major highway, and bike-friendly roads.\",\n",
        "    \"neighborhood_vibe\": \"A balance between suburban tranquility and access to urban amenities like restaurants and theaters.\"\n",
        "}"
      ],
      "metadata": {
        "id": "7diVJDgi9XV6"
      },
      "execution_count": 17,
      "outputs": []
    },
    {
      "cell_type": "code",
      "source": [
        "# Combine preferences into a single string for semantic search query\n",
        "buyer_preference_summary = (\n",
        "    f\"Looking for: {buyer_preferences['house_size_description']}. \"\n",
        "    f\"Key factors: {buyer_preferences['important_factors']}. \"\n",
        "    f\"Wants amenities like: {buyer_preferences['desired_amenities']}. \"\n",
        "    f\"Needs transportation options: {buyer_preferences['transportation_needs']}. \"\n",
        "    f\"Prefers neighborhood vibe: {buyer_preferences['neighborhood_vibe']}\"\n",
        ")"
      ],
      "metadata": {
        "id": "OR5in0Dg9cIo"
      },
      "execution_count": 18,
      "outputs": []
    },
    {
      "cell_type": "code",
      "source": [
        "print(\"Defined Buyer Preferences:\")\n",
        "for key, value in buyer_preferences.items():\n",
        "    print(f\"  - {key.replace('_', ' ').title()}: {value}\")\n",
        "print(\"\\nCombined Preference Summary for Search:\")\n",
        "print(buyer_preference_summary)"
      ],
      "metadata": {
        "colab": {
          "base_uri": "https://localhost:8080/"
        },
        "id": "p-4Vxdlo9fah",
        "outputId": "c0ca8559-74ef-4c46-8df8-feb91c5b35f5"
      },
      "execution_count": 19,
      "outputs": [
        {
          "output_type": "stream",
          "name": "stdout",
          "text": [
            "Defined Buyer Preferences:\n",
            "  - House Size Description: A comfortable three-bedroom house with a spacious kitchen and a cozy living room.\n",
            "  - Important Factors: A quiet neighborhood, good local schools, and convenient shopping options.\n",
            "  - Desired Amenities: A backyard for gardening, a two-car garage, and a modern, energy-efficient heating system.\n",
            "  - Transportation Needs: Easy access to a reliable bus line, proximity to a major highway, and bike-friendly roads.\n",
            "  - Neighborhood Vibe: A balance between suburban tranquility and access to urban amenities like restaurants and theaters.\n",
            "\n",
            "Combined Preference Summary for Search:\n",
            "Looking for: A comfortable three-bedroom house with a spacious kitchen and a cozy living room.. Key factors: A quiet neighborhood, good local schools, and convenient shopping options.. Wants amenities like: A backyard for gardening, a two-car garage, and a modern, energy-efficient heating system.. Needs transportation options: Easy access to a reliable bus line, proximity to a major highway, and bike-friendly roads.. Prefers neighborhood vibe: A balance between suburban tranquility and access to urban amenities like restaurants and theaters.\n"
          ]
        }
      ]
    },
    {
      "cell_type": "markdown",
      "source": [
        "# Searching Based on Preferences"
      ],
      "metadata": {
        "id": "sVEAPP7y9ju6"
      }
    },
    {
      "cell_type": "code",
      "source": [
        "def search_listings(vector_store, query, k=3):\n",
        "    \"\"\"Performs semantic search on the vector store based on the query.\"\"\"\n",
        "    if not vector_store:\n",
        "        print(\"🛑 Vector store not available. Cannot perform search.\")\n",
        "        return []\n",
        "\n",
        "    print(f\"Searching for top {k} listings matching the query:\")\n",
        "    print(f\"  Query: {query[:100]}...\" ) # Print truncated query\n",
        "\n",
        "    try:\n",
        "        # Perform similarity search with scores\n",
        "        results_with_scores = vector_store.similarity_search_with_score(query, k=k)\n",
        "\n",
        "        if not results_with_scores:\n",
        "            print(\"  No matching listings found.\")\n",
        "            return []\n",
        "\n",
        "        print(f\"\\nFound {len(results_with_scores)} matching listings:\")\n",
        "        matched_listings = []\n",
        "        for i, (doc, score) in enumerate(results_with_scores):\n",
        "            # The metadata contains the original listing dictionary\n",
        "            listing_data = doc.metadata\n",
        "            print(f\"  {i+1}. Listing ID: {listing_data.get('id', 'N/A')}\")\n",
        "            print(f\"     Neighborhood: {listing_data.get('neighborhood', 'N/A')}\")\n",
        "            print(f\"     Price: ${listing_data.get('price', 0):,}\")\n",
        "            print(f\"     Specs: {listing_data.get('bedrooms', 0)} bed, {listing_data.get('bathrooms', 0)} bath, {listing_data.get('house_size_sqft', 0)} sqft\")\n",
        "            # print(f\"     Description: {listing_data.get('description', '')[:100]}...\") # Optionally show snippet\n",
        "            print(f\"     Similarity Score: {score:.4f}\") # Lower score often means more similar in Chroma/cosine\n",
        "            print(\"---\")\n",
        "            matched_listings.append(listing_data) # Return the full listing data\n",
        "\n",
        "        return matched_listings # Return the list of matched listing dictionaries\n",
        "\n",
        "    except Exception as e:\n",
        "        print(f\"🛑 Error during similarity search: {e}\")\n",
        "        return []"
      ],
      "metadata": {
        "id": "f6OPqNNq9lCJ"
      },
      "execution_count": 20,
      "outputs": []
    },
    {
      "cell_type": "code",
      "source": [
        "top_listings = []\n",
        "if vector_db:\n",
        "    top_listings = search_listings(vector_db, buyer_preference_summary, k=3)\n",
        "else:\n",
        "    print(\"🛑 Skipping search because vector database setup failed or was skipped.\")"
      ],
      "metadata": {
        "colab": {
          "base_uri": "https://localhost:8080/"
        },
        "id": "CG6-1GbZ9vQW",
        "outputId": "02927e31-9330-4c41-b1ed-5e6c0662d318"
      },
      "execution_count": 21,
      "outputs": [
        {
          "output_type": "stream",
          "name": "stdout",
          "text": [
            "Searching for top 3 listings matching the query:\n",
            "  Query: Looking for: A comfortable three-bedroom house with a spacious kitchen and a cozy living room.. Key ...\n",
            "\n",
            "Found 3 matching listings:\n",
            "  1. Listing ID: listing_005\n",
            "     Neighborhood: Eco-Conscious Community\n",
            "     Price: $700,000\n",
            "     Specs: 3 bed, 2 bath, 1800 sqft\n",
            "     Similarity Score: 0.3396\n",
            "---\n",
            "  2. Listing ID: listing_006\n",
            "     Neighborhood: Historic Neighborhood\n",
            "     Price: $900,000\n",
            "     Specs: 4 bed, 2.5 bath, 2800 sqft\n",
            "     Similarity Score: 0.3475\n",
            "---\n",
            "  3. Listing ID: listing_008\n",
            "     Neighborhood: Affordable Starter Home Area\n",
            "     Price: $350,000\n",
            "     Specs: 2 bed, 1 bath, 1000 sqft\n",
            "     Similarity Score: 0.3731\n",
            "---\n"
          ]
        }
      ]
    },
    {
      "cell_type": "markdown",
      "source": [
        "# Personalizing Listing Descriptions"
      ],
      "metadata": {
        "id": "1ANegWcM91SV"
      }
    },
    {
      "cell_type": "code",
      "source": [
        "personalization_template = \"\"\"\n",
        "Rewrite the following real estate listing description to highlight aspects that match the buyer's preferences, while keeping all factual information (like price, size, number of beds/baths, specific features mentioned) the same. Make it sound appealing to this specific buyer.\n",
        "\n",
        "Buyer Preferences Summary:\n",
        "{buyer_preferences}\n",
        "\n",
        "Original Listing Description:\n",
        "{original_description}\n",
        "\n",
        "Neighborhood Description (for context):\n",
        "{neighborhood_description}\n",
        "\n",
        "Personalized Listing Description:\n",
        "\"\"\"\n",
        "\n",
        "personalization_prompt = PromptTemplate(\n",
        "    input_variables=[\"buyer_preferences\", \"original_description\", \"neighborhood_description\"],\n",
        "    template=personalization_template\n",
        ")\n",
        "\n",
        "personalization_chain = personalization_prompt | llm\n",
        "\n",
        "def personalize_listing_descriptions(matched_listings, buyer_prefs_summary):\n",
        "    \"\"\"Generates personalized descriptions for matched listings using the LLM.\"\"\"\n",
        "    if not matched_listings:\n",
        "        print(\"No matched listings to personalize.\")\n",
        "        return\n",
        "\n",
        "    print(f\"Personalizing descriptions for {len(matched_listings)} matched listings...\")\n",
        "    personalized_results = []\n",
        "\n",
        "    for i, listing in enumerate(matched_listings):\n",
        "        print(f\"\\n--- Personalizing Listing {i+1} (ID: {listing.get('id', 'N/A')}) ---\")\n",
        "        original_desc = listing.get('description', '')\n",
        "        neighborhood_desc = listing.get('neighborhood_description', '')\n",
        "\n",
        "        print(f\"Original Description:\\n{original_desc}\\n\")\n",
        "\n",
        "        try:\n",
        "            # Generate personalized description\n",
        "            personalized_desc = personalization_chain.invoke({\n",
        "                \"buyer_preferences\": buyer_prefs_summary,\n",
        "                \"original_description\": original_desc,\n",
        "                \"neighborhood_description\": neighborhood_desc\n",
        "            })\n",
        "            print(f\"Personalized Description:\\n{personalized_desc.strip()}\\n\")\n",
        "            personalized_results.append({\n",
        "                \"listing_id\": listing.get('id', 'N/A'),\n",
        "                \"original\": original_desc,\n",
        "                \"personalized\": personalized_desc.strip()\n",
        "            })\n",
        "        except Exception as e:\n",
        "            print(f\"🛑 Error personalizing description for listing {listing.get('id', 'N/A')}: {e}\")\n",
        "            personalized_results.append({\n",
        "                \"listing_id\": listing.get('id', 'N/A'),\n",
        "                \"original\": original_desc,\n",
        "                \"personalized\": \"Error during personalization.\"\n",
        "            })\n",
        "\n",
        "    return personalized_results"
      ],
      "metadata": {
        "id": "85C7n8qC92zB"
      },
      "execution_count": 25,
      "outputs": []
    },
    {
      "cell_type": "code",
      "source": [
        "if top_listings:\n",
        "    personalization_results = personalize_listing_descriptions(top_listings, buyer_preference_summary)\n",
        "else:\n",
        "    print(\"🛑 Skipping personalization as no top listings were found or search failed.\")"
      ],
      "metadata": {
        "colab": {
          "base_uri": "https://localhost:8080/"
        },
        "id": "670tmAKl9-pz",
        "outputId": "ebc71266-060d-4778-8c8f-60b66870c77a"
      },
      "execution_count": 26,
      "outputs": [
        {
          "output_type": "stream",
          "name": "stdout",
          "text": [
            "Personalizing descriptions for 3 matched listings...\n",
            "\n",
            "--- Personalizing Listing 1 (ID: listing_005) ---\n",
            "Original Description:\n",
            "Welcome to your dream home in the heart of the Eco-Conscious Community! This stunning house boasts 3 spacious bedrooms and 2 modern bathrooms, perfect for a family looking to live in a sustainable and environmentally friendly neighborhood.\n",
            "\n",
            "Personalized Description:\n",
            "Welcome to your perfect family home in the idyllic Eco-Conscious Community! This charming house features 3 cozy bedrooms and 2 modern bathrooms, ideal for a family seeking a sustainable and environmentally friendly lifestyle.\n",
            "\n",
            "Neighborhood Description (for context):\n",
            "Indulge in the peaceful atmosphere of this green community, surrounded by like-minded individuals. Take a leisurely stroll along the calm, tree-lined streets and admire the beautifully landscaped gardens. Enjoy the convenience of local amenities, including a community center, organic market, and parks, all just a short walk away. Embrace an active and healthy lifestyle with plenty of biking and hiking trails nearby. This is more than just a neighborhood, it's a close-knit community that shares strong values of sustainability and environmental preservation.\n",
            "\n",
            "Updated Listing Description:\n",
            "Welcome to your perfect family home in the serene Eco-Conscious Community! This inviting house features 3 comfortable bedrooms and 2 modern bathrooms, perfect for a family seeking a sustainable and environmentally friendly lifestyle.\n",
            "\n",
            "Neighborhood Description (for context):\n",
            "Immerse yourself in the tranquil ambiance of this green community, surrounded by like-minded individuals. Take a relaxing stroll along the peaceful, tree-lined streets and admire the beautifully landscaped gardens. Enjoy the convenience of local amenities, including a community center, organic market\n",
            "\n",
            "\n",
            "--- Personalizing Listing 2 (ID: listing_006) ---\n",
            "Original Description:\n",
            "Elegant and spacious, this stunning home in the heart of the historic neighborhood is a true gem. With 4 bedrooms and 2.5 bathrooms, this 2800 sqft house boasts luxurious features and modern updates while maintaining its historic charm. From the grand foyer to the cozy living room with a fireplace, this home is perfect for entertaining guests or relaxing with family.\n",
            "\n",
            "Personalized Description:\n",
            "Welcome to your dream home in the perfect location! This charming three-bedroom house is nestled in a quiet and historic neighborhood, surrounded by tree-lined streets and beautiful architecture. The spacious kitchen is perfect for cooking and entertaining, while the cozy living room with a fireplace is ideal for relaxing with family. With a backyard for gardening, you can enjoy your own little oasis in the city. The two-car garage provides ample space for your vehicles and storage needs.\n",
            "\n",
            "Not only is this home a gem, but the neighborhood also offers top-rated schools and convenient shopping options, making it the perfect place to raise a family. Plus, with easy access to a reliable bus line, a major highway, and bike-friendly roads, you'll have plenty of transportation options. And don't worry about high utility bills, as this home has a modern, energy-efficient heating system.\n",
            "\n",
            "Experience the best of both worlds in this neighborhood, with a balance between suburban tranquility and urban amenities like restaurants and theaters just a short distance away. Don't miss out on the opportunity to make this stunning home your own!\n",
            "\n",
            "\n",
            "--- Personalizing Listing 3 (ID: listing_008) ---\n",
            "Original Description:\n",
            "Welcome to your new home in the desirable Affordable Starter Home Area! This charming 2 bedroom, 1 bathroom home is perfect for first-time homebuyers or those looking to downsize. With a price range of $350,000, this home offers affordability without sacrificing on quality.\n",
            "\n",
            "Personalized Description:\n",
            "Welcome to your new home in the charming and tranquil Affordable Starter Home Area. This spacious 3 bedroom, 1 bathroom house is perfect for those seeking a comfortable and cozy living space. With a spacious kitchen and a warm and inviting living room, this home offers the ideal layout for relaxation and entertaining.\n",
            "\n",
            "Located in a quiet and family-friendly neighborhood, this home is surrounded by lush greenery and tree-lined streets, creating a peaceful and serene atmosphere. The local schools are highly rated, providing the perfect environment for your family to thrive. And with convenient shopping options nearby, you'll have everything you need right at your fingertips.\n",
            "\n",
            "This home also boasts desirable amenities such as a backyard for gardening and a two-car garage, providing ample space for all your needs. Plus, the modern and energy-efficient heating system will keep you comfortable all year round while also saving on energy costs.\n",
            "\n",
            "For transportation options, this home offers easy access to a reliable bus line, making your commute a breeze. You'll also appreciate the proximity to a major highway and bike-friendly roads, giving you flexibility in how you choose to get around.\n",
            "\n",
            "In this neighborhood, you'll find the perfect balance between suburban tranquility and access to urban amenities like restaurants and theaters. Don't miss out on the opportunity to own a home in\n",
            "\n"
          ]
        }
      ]
    }
  ]
}